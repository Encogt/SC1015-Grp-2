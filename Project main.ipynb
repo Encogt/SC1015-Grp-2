{
 "cells": [
  {
   "cell_type": "code",
   "execution_count": 1,
   "id": "4c3e1f04",
   "metadata": {},
   "outputs": [],
   "source": [
    "# Basic Libraries\n",
    "import numpy as np\n",
    "import pandas as pd\n",
    "import seaborn as sb\n",
    "import matplotlib.pyplot as plt # we only need pyplot\n",
    "sb.set() # set the default Seaborn style for graphics\n",
    "from sklearn.linear_model import LinearRegression"
   ]
  },
  {
   "cell_type": "markdown",
   "id": "6d05b84d",
   "metadata": {},
   "source": [
    "## Import Data"
   ]
  },
  {
   "cell_type": "code",
   "execution_count": 2,
   "id": "c1349542",
   "metadata": {},
   "outputs": [
    {
     "data": {
      "text/html": [
       "<div>\n",
       "<style scoped>\n",
       "    .dataframe tbody tr th:only-of-type {\n",
       "        vertical-align: middle;\n",
       "    }\n",
       "\n",
       "    .dataframe tbody tr th {\n",
       "        vertical-align: top;\n",
       "    }\n",
       "\n",
       "    .dataframe thead th {\n",
       "        text-align: right;\n",
       "    }\n",
       "</style>\n",
       "<table border=\"1\" class=\"dataframe\">\n",
       "  <thead>\n",
       "    <tr style=\"text-align: right;\">\n",
       "      <th></th>\n",
       "      <th>Brand</th>\n",
       "      <th>Type</th>\n",
       "      <th>Reg_date</th>\n",
       "      <th>Coe_left</th>\n",
       "      <th>Dep</th>\n",
       "      <th>Mileage</th>\n",
       "      <th>Road Tax</th>\n",
       "      <th>Dereg Value</th>\n",
       "      <th>COE</th>\n",
       "      <th>Engine Cap</th>\n",
       "      <th>Curb Weight</th>\n",
       "      <th>Manufactured</th>\n",
       "      <th>Transmission</th>\n",
       "      <th>OMV</th>\n",
       "      <th>ARF</th>\n",
       "      <th>Power</th>\n",
       "      <th>No. of Owners</th>\n",
       "      <th>Price</th>\n",
       "    </tr>\n",
       "  </thead>\n",
       "  <tbody>\n",
       "    <tr>\n",
       "      <th>0</th>\n",
       "      <td>BMW 5 Series 520i Highline</td>\n",
       "      <td>Luxury Sedan</td>\n",
       "      <td>28-May-13</td>\n",
       "      <td>1yr 11mths 21days COE left)</td>\n",
       "      <td>15920</td>\n",
       "      <td>N.A</td>\n",
       "      <td>1210</td>\n",
       "      <td>38133</td>\n",
       "      <td>67304</td>\n",
       "      <td>1997</td>\n",
       "      <td>1610</td>\n",
       "      <td>2013</td>\n",
       "      <td>Auto</td>\n",
       "      <td>41566</td>\n",
       "      <td>45193</td>\n",
       "      <td>135</td>\n",
       "      <td>1</td>\n",
       "      <td>54000</td>\n",
       "    </tr>\n",
       "    <tr>\n",
       "      <th>1</th>\n",
       "      <td>Honda Vezel 1.5A X Honda Sensing</td>\n",
       "      <td>SUV</td>\n",
       "      <td>14-Oct-15</td>\n",
       "      <td>4yrs 4mths 7days COE left)</td>\n",
       "      <td>10310</td>\n",
       "      <td>50000</td>\n",
       "      <td>682</td>\n",
       "      <td>31237</td>\n",
       "      <td>56001</td>\n",
       "      <td>1496</td>\n",
       "      <td>1190</td>\n",
       "      <td>2015</td>\n",
       "      <td>Auto</td>\n",
       "      <td>19775</td>\n",
       "      <td>9775</td>\n",
       "      <td>96</td>\n",
       "      <td>2</td>\n",
       "      <td>49800</td>\n",
       "    </tr>\n",
       "    <tr>\n",
       "      <th>2</th>\n",
       "      <td>MINI One 1.6A (New 10-yr COE)</td>\n",
       "      <td>Hatchback</td>\n",
       "      <td>7-Oct-11</td>\n",
       "      <td>10yrs  COE left)</td>\n",
       "      <td>6280</td>\n",
       "      <td>110000</td>\n",
       "      <td>742</td>\n",
       "      <td>N.A</td>\n",
       "      <td>N.A</td>\n",
       "      <td>1598</td>\n",
       "      <td>1100</td>\n",
       "      <td>2011</td>\n",
       "      <td>Auto</td>\n",
       "      <td>18180</td>\n",
       "      <td>18180</td>\n",
       "      <td>72</td>\n",
       "      <td>3</td>\n",
       "      <td>62800</td>\n",
       "    </tr>\n",
       "    <tr>\n",
       "      <th>3</th>\n",
       "      <td>Hyundai Avante 1.6A (COE till 02/2029)</td>\n",
       "      <td>Mid-Sized Sedan</td>\n",
       "      <td>12-Feb-09</td>\n",
       "      <td>7yrs 8mths 5days COE left)</td>\n",
       "      <td>N.A</td>\n",
       "      <td>N.A</td>\n",
       "      <td>959</td>\n",
       "      <td>N.A</td>\n",
       "      <td>25727</td>\n",
       "      <td>1591</td>\n",
       "      <td>1264</td>\n",
       "      <td>2009</td>\n",
       "      <td>Auto</td>\n",
       "      <td>10763</td>\n",
       "      <td>10763</td>\n",
       "      <td>89</td>\n",
       "      <td>3</td>\n",
       "      <td>N.A</td>\n",
       "    </tr>\n",
       "    <tr>\n",
       "      <th>4</th>\n",
       "      <td>Suzuki Swift Sport 1.6M (COE till 12/2022)</td>\n",
       "      <td>Hatchback</td>\n",
       "      <td>28-Dec-07</td>\n",
       "      <td>1yr 6mths 21days COE left)</td>\n",
       "      <td>8210</td>\n",
       "      <td>203000</td>\n",
       "      <td>1030</td>\n",
       "      <td>6656</td>\n",
       "      <td>21349</td>\n",
       "      <td>1586</td>\n",
       "      <td>1060</td>\n",
       "      <td>2007</td>\n",
       "      <td>Manual</td>\n",
       "      <td>12154</td>\n",
       "      <td>13370</td>\n",
       "      <td>92</td>\n",
       "      <td>2</td>\n",
       "      <td>12800</td>\n",
       "    </tr>\n",
       "  </tbody>\n",
       "</table>\n",
       "</div>"
      ],
      "text/plain": [
       "                                        Brand             Type   Reg_date  \\\n",
       "0                  BMW 5 Series 520i Highline     Luxury Sedan  28-May-13   \n",
       "1            Honda Vezel 1.5A X Honda Sensing              SUV  14-Oct-15   \n",
       "2               MINI One 1.6A (New 10-yr COE)        Hatchback   7-Oct-11   \n",
       "3      Hyundai Avante 1.6A (COE till 02/2029)  Mid-Sized Sedan  12-Feb-09   \n",
       "4  Suzuki Swift Sport 1.6M (COE till 12/2022)        Hatchback  28-Dec-07   \n",
       "\n",
       "                      Coe_left    Dep Mileage Road Tax Dereg Value    COE  \\\n",
       "0  1yr 11mths 21days COE left)  15920     N.A     1210       38133  67304   \n",
       "1   4yrs 4mths 7days COE left)  10310   50000      682       31237  56001   \n",
       "2             10yrs  COE left)   6280  110000      742         N.A    N.A   \n",
       "3   7yrs 8mths 5days COE left)    N.A     N.A      959         N.A  25727   \n",
       "4   1yr 6mths 21days COE left)   8210  203000     1030        6656  21349   \n",
       "\n",
       "  Engine Cap Curb Weight Manufactured Transmission    OMV    ARF Power  \\\n",
       "0       1997        1610         2013         Auto  41566  45193   135   \n",
       "1       1496        1190         2015         Auto  19775   9775    96   \n",
       "2       1598        1100         2011         Auto  18180  18180    72   \n",
       "3       1591        1264         2009         Auto  10763  10763    89   \n",
       "4       1586        1060         2007       Manual  12154  13370    92   \n",
       "\n",
       "  No. of Owners  Price  \n",
       "0             1  54000  \n",
       "1             2  49800  \n",
       "2             3  62800  \n",
       "3             3    N.A  \n",
       "4             2  12800  "
      ]
     },
     "execution_count": 2,
     "metadata": {},
     "output_type": "execute_result"
    }
   ],
   "source": [
    "carData = pd.read_csv('SG_usedcar.csv')\n",
    "carData.head()"
   ]
  },
  {
   "cell_type": "code",
   "execution_count": 3,
   "id": "e6709de9",
   "metadata": {},
   "outputs": [
    {
     "name": "stdout",
     "output_type": "stream",
     "text": [
      "<class 'pandas.core.frame.DataFrame'>\n",
      "RangeIndex: 4396 entries, 0 to 4395\n",
      "Data columns (total 18 columns):\n",
      " #   Column         Non-Null Count  Dtype \n",
      "---  ------         --------------  ----- \n",
      " 0   Brand          4396 non-null   object\n",
      " 1   Type           4396 non-null   object\n",
      " 2   Reg_date       4396 non-null   object\n",
      " 3   Coe_left       4388 non-null   object\n",
      " 4   Dep            4396 non-null   object\n",
      " 5   Mileage        4396 non-null   object\n",
      " 6   Road Tax       4396 non-null   object\n",
      " 7   Dereg Value    4396 non-null   object\n",
      " 8   COE            4396 non-null   object\n",
      " 9   Engine Cap     4396 non-null   object\n",
      " 10  Curb Weight    4396 non-null   object\n",
      " 11  Manufactured   4396 non-null   object\n",
      " 12  Transmission   4396 non-null   object\n",
      " 13  OMV            4396 non-null   object\n",
      " 14  ARF            4396 non-null   object\n",
      " 15  Power          4396 non-null   object\n",
      " 16  No. of Owners  4396 non-null   object\n",
      " 17  Price          4396 non-null   object\n",
      "dtypes: object(18)\n",
      "memory usage: 618.3+ KB\n"
     ]
    }
   ],
   "source": [
    "carData.info()"
   ]
  },
  {
   "cell_type": "markdown",
   "id": "bbfdc23d",
   "metadata": {},
   "source": [
    "## Change N.A to nan"
   ]
  },
  {
   "cell_type": "code",
   "execution_count": 4,
   "id": "1ea71f90",
   "metadata": {},
   "outputs": [
    {
     "name": "stdout",
     "output_type": "stream",
     "text": [
      "<class 'pandas.core.frame.DataFrame'>\n",
      "RangeIndex: 4396 entries, 0 to 4395\n",
      "Data columns (total 18 columns):\n",
      " #   Column         Non-Null Count  Dtype \n",
      "---  ------         --------------  ----- \n",
      " 0   Brand          4396 non-null   object\n",
      " 1   Type           4396 non-null   object\n",
      " 2   Reg_date       4396 non-null   object\n",
      " 3   Coe_left       4388 non-null   object\n",
      " 4   Dep            3688 non-null   object\n",
      " 5   Mileage        2840 non-null   object\n",
      " 6   Road Tax       3968 non-null   object\n",
      " 7   Dereg Value    3446 non-null   object\n",
      " 8   COE            4138 non-null   object\n",
      " 9   Engine Cap     4393 non-null   object\n",
      " 10  Curb Weight    4330 non-null   object\n",
      " 11  Manufactured   4391 non-null   object\n",
      " 12  Transmission   4396 non-null   object\n",
      " 13  OMV            3978 non-null   object\n",
      " 14  ARF            4393 non-null   object\n",
      " 15  Power          4388 non-null   object\n",
      " 16  No. of Owners  4339 non-null   object\n",
      " 17  Price          3676 non-null   object\n",
      "dtypes: object(18)\n",
      "memory usage: 618.3+ KB\n"
     ]
    }
   ],
   "source": [
    "carData = carData.replace('N.A',np.nan)\n",
    "carData.info()"
   ]
  },
  {
   "cell_type": "markdown",
   "id": "551e6e61",
   "metadata": {},
   "source": [
    "## Removing missing values"
   ]
  },
  {
   "cell_type": "code",
   "execution_count": 5,
   "id": "734833c1",
   "metadata": {},
   "outputs": [
    {
     "name": "stdout",
     "output_type": "stream",
     "text": [
      "<class 'pandas.core.frame.DataFrame'>\n",
      "Index: 3676 entries, 0 to 4395\n",
      "Data columns (total 18 columns):\n",
      " #   Column         Non-Null Count  Dtype \n",
      "---  ------         --------------  ----- \n",
      " 0   Brand          3676 non-null   object\n",
      " 1   Type           3676 non-null   object\n",
      " 2   Reg_date       3676 non-null   object\n",
      " 3   Coe_left       3670 non-null   object\n",
      " 4   Dep            3676 non-null   object\n",
      " 5   Mileage        2830 non-null   object\n",
      " 6   Road Tax       3280 non-null   object\n",
      " 7   Dereg Value    3434 non-null   object\n",
      " 8   COE            3446 non-null   object\n",
      " 9   Engine Cap     3673 non-null   object\n",
      " 10  Curb Weight    3616 non-null   object\n",
      " 11  Manufactured   3671 non-null   object\n",
      " 12  Transmission   3676 non-null   object\n",
      " 13  OMV            3288 non-null   object\n",
      " 14  ARF            3673 non-null   object\n",
      " 15  Power          3669 non-null   object\n",
      " 16  No. of Owners  3627 non-null   object\n",
      " 17  Price          3676 non-null   object\n",
      "dtypes: object(18)\n",
      "memory usage: 545.7+ KB\n"
     ]
    }
   ],
   "source": [
    "carData.dropna(subset=['Price'], inplace=True)\n",
    "carData.info()"
   ]
  },
  {
   "cell_type": "code",
   "execution_count": 6,
   "id": "ee9511eb",
   "metadata": {},
   "outputs": [
    {
     "name": "stdout",
     "output_type": "stream",
     "text": [
      "<class 'pandas.core.frame.DataFrame'>\n",
      "Index: 3676 entries, 0 to 4395\n",
      "Data columns (total 18 columns):\n",
      " #   Column         Non-Null Count  Dtype \n",
      "---  ------         --------------  ----- \n",
      " 0   Brand          3676 non-null   object\n",
      " 1   Type           3676 non-null   object\n",
      " 2   Reg_date       3676 non-null   object\n",
      " 3   Coe_left       3676 non-null   object\n",
      " 4   Dep            3676 non-null   object\n",
      " 5   Mileage        3676 non-null   object\n",
      " 6   Road Tax       3676 non-null   object\n",
      " 7   Dereg Value    3676 non-null   object\n",
      " 8   COE            3676 non-null   object\n",
      " 9   Engine Cap     3676 non-null   object\n",
      " 10  Curb Weight    3676 non-null   object\n",
      " 11  Manufactured   3676 non-null   object\n",
      " 12  Transmission   3676 non-null   object\n",
      " 13  OMV            3676 non-null   object\n",
      " 14  ARF            3676 non-null   object\n",
      " 15  Power          3676 non-null   object\n",
      " 16  No. of Owners  3676 non-null   object\n",
      " 17  Price          3676 non-null   object\n",
      "dtypes: object(18)\n",
      "memory usage: 545.7+ KB\n"
     ]
    }
   ],
   "source": [
    "carData.fillna(0, inplace=True)\n",
    "carData.info()"
   ]
  },
  {
   "cell_type": "code",
   "execution_count": 7,
   "id": "dc160b51",
   "metadata": {},
   "outputs": [],
   "source": [
    "convert_dict = {'Mileage': 'int64','Road Tax': 'int64','COE': 'int64','OMV': 'int64','ARF': 'int64', 'Manufactured': 'int64','No. of Owners': 'int64','Price': 'int64','Dereg Value':'int64','Engine Cap':'int64','Curb Weight':'int64','Power':'int64','Type':'category'}"
   ]
  },
  {
   "cell_type": "code",
   "execution_count": 8,
   "id": "dda4eacd",
   "metadata": {},
   "outputs": [
    {
     "name": "stdout",
     "output_type": "stream",
     "text": [
      "<class 'pandas.core.frame.DataFrame'>\n",
      "Index: 3676 entries, 0 to 4395\n",
      "Data columns (total 18 columns):\n",
      " #   Column         Non-Null Count  Dtype   \n",
      "---  ------         --------------  -----   \n",
      " 0   Brand          3676 non-null   object  \n",
      " 1   Type           3676 non-null   category\n",
      " 2   Reg_date       3676 non-null   object  \n",
      " 3   Coe_left       3676 non-null   object  \n",
      " 4   Dep            3676 non-null   object  \n",
      " 5   Mileage        3676 non-null   int64   \n",
      " 6   Road Tax       3676 non-null   int64   \n",
      " 7   Dereg Value    3676 non-null   int64   \n",
      " 8   COE            3676 non-null   int64   \n",
      " 9   Engine Cap     3676 non-null   int64   \n",
      " 10  Curb Weight    3676 non-null   int64   \n",
      " 11  Manufactured   3676 non-null   int64   \n",
      " 12  Transmission   3676 non-null   object  \n",
      " 13  OMV            3676 non-null   int64   \n",
      " 14  ARF            3676 non-null   int64   \n",
      " 15  Power          3676 non-null   int64   \n",
      " 16  No. of Owners  3676 non-null   int64   \n",
      " 17  Price          3676 non-null   int64   \n",
      "dtypes: category(1), int64(12), object(5)\n",
      "memory usage: 520.9+ KB\n"
     ]
    }
   ],
   "source": [
    "carData = carData.astype(convert_dict)\n",
    "carData.info()"
   ]
  },
  {
   "cell_type": "code",
   "execution_count": null,
   "id": "7d0d1392",
   "metadata": {},
   "outputs": [],
   "source": []
  }
 ],
 "metadata": {
  "kernelspec": {
   "display_name": "Python 3 (ipykernel)",
   "language": "python",
   "name": "python3"
  },
  "language_info": {
   "codemirror_mode": {
    "name": "ipython",
    "version": 3
   },
   "file_extension": ".py",
   "mimetype": "text/x-python",
   "name": "python",
   "nbconvert_exporter": "python",
   "pygments_lexer": "ipython3",
   "version": "3.11.5"
  }
 },
 "nbformat": 4,
 "nbformat_minor": 5
}
